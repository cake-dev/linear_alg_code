{
 "cells": [
  {
   "cell_type": "code",
   "execution_count": null,
   "metadata": {},
   "outputs": [],
   "source": [
    "import numpy as np\n",
    "import matplotlib.pyplot as plt\n",
    "import math\n",
    "import random"
   ]
  },
  {
   "cell_type": "code",
   "execution_count": null,
   "metadata": {},
   "outputs": [],
   "source": [
    "v = np.array([1, 2, 3])\n",
    "w = np.array([4, 5, 6])"
   ]
  },
  {
   "cell_type": "code",
   "execution_count": null,
   "metadata": {},
   "outputs": [],
   "source": [
    "v = np.array([1, 2, 3])\n",
    "w = np.array([4, 5, 6])\n",
    "# a graph of a 3d vector\n",
    "fig = plt.figure()\n",
    "ax = fig.add_subplot(projection='3d')\n",
    "ax.quiver(0, 0, 0, v[0], v[1], v[2], color='r')\n",
    "ax.quiver(0, 0, 0, w[0], w[1], w[2], color='b')\n",
    "ax.quiver(0, 0, 0, v[0] + w[0], v[1] + w[1], v[2] + w[2], color='g')\n",
    "ax.set_xlim([0, 10])\n",
    "ax.set_ylim([0, 10])\n",
    "ax.set_zlim([0, 10])\n",
    "plt.legend(['v', 'w', 'v + w'])\n",
    "plt.show()"
   ]
  },
  {
   "cell_type": "code",
   "execution_count": null,
   "metadata": {},
   "outputs": [],
   "source": [
    "# 3x3 matrix\n",
    "A = np.array([[2, 0, 0], [0, 1, 0], [0, 0, 1]])\n",
    "# plot the matrix\n",
    "fig = plt.figure()\n",
    "ax = fig.add_subplot(projection='3d')\n",
    "ax.quiver(0, 0, 0, A[0, 0], A[0, 1], A[0, 2], color='r')\n",
    "ax.quiver(0, 0, 0, A[1, 0], A[1, 1], A[1, 2], color='b')\n",
    "ax.quiver(0, 0, 0, A[2, 0], A[2, 1], A[2, 2], color='g')\n",
    "ax.set_xlim([0, 10])\n",
    "ax.set_ylim([0, 10])\n",
    "ax.set_zlim([0, 10])\n",
    "plt.show()"
   ]
  },
  {
   "cell_type": "code",
   "execution_count": null,
   "metadata": {},
   "outputs": [],
   "source": [
    "np.linalg.inv(A)"
   ]
  },
  {
   "cell_type": "code",
   "execution_count": null,
   "metadata": {},
   "outputs": [],
   "source": [
    "np.linalg.solve(A, v)"
   ]
  },
  {
   "cell_type": "markdown",
   "metadata": {},
   "source": [
    "$\n",
    "\\begin{bmatrix}\n",
    "    1 & 2 & 3 \\\\\n",
    "    4 & 5 & 6 \\\\\n",
    "    7 & 8 & 9 \\\\\n",
    "\\end{bmatrix}\n",
    "$"
   ]
  },
  {
   "cell_type": "code",
   "execution_count": null,
   "metadata": {},
   "outputs": [],
   "source": [
    "# visualization of a plane in R3\n",
    "fig = plt.figure()\n",
    "ax = fig.add_subplot(projection='3d')\n",
    "x = np.linspace(-10, 10, 100)\n",
    "y = np.linspace(-10, 10, 100)\n",
    "X, Y = np.meshgrid(x, y)\n",
    "Z = 2 * X + 3 * Y\n",
    "ax.plot_surface(X, Y, Z, alpha=0.5)\n",
    "ax.set_xlim([-10, 10])\n",
    "ax.set_ylim([-10, 10])\n",
    "ax.set_zlim([-10, 10])\n",
    "plt.show()"
   ]
  },
  {
   "cell_type": "code",
   "execution_count": null,
   "metadata": {},
   "outputs": [],
   "source": [
    "from matplotlib.animation import FuncAnimation\n",
    "from IPython.display import HTML\n",
    "\n",
    "# Initial vector\n",
    "vector = np.array([1, 2])\n",
    "\n",
    "# Scaling factor\n",
    "c_values = np.linspace(1, 5, 30)\n",
    "\n",
    "# Create a figure and an axes\n",
    "fig, ax = plt.subplots()\n",
    "\n",
    "# Plot the initial vector\n",
    "quiver = ax.quiver(0, 0, vector[0], vector[1], angles='xy', scale_units='xy', scale=1, color='r')\n",
    "\n",
    "# Set the axes limits\n",
    "ax.set_xlim(-10, 10)\n",
    "ax.set_ylim(-10, 10)\n",
    "\n",
    "# Update function for animation\n",
    "def update(num):\n",
    "    scaled_vector = c_values[num] * vector\n",
    "    quiver.set_UVC(scaled_vector[0], scaled_vector[1])\n",
    "\n",
    "# Create an animation\n",
    "ani = FuncAnimation(fig, update, frames=range(len(c_values)), blit=False)\n",
    "\n",
    "# Display the animation in the Jupyter Notebook\n",
    "HTML(ani.to_jshtml())"
   ]
  },
  {
   "cell_type": "code",
   "execution_count": null,
   "metadata": {},
   "outputs": [],
   "source": [
    "from mpl_toolkits.mplot3d.art3d import Poly3DCollection\n",
    "\n",
    "# Create a figure and 3D axes\n",
    "fig = plt.figure()\n",
    "ax = fig.add_subplot(111, projection='3d')\n",
    "\n",
    "# Define the cube vertices\n",
    "vertices = np.array([[-1, -1, -1],\n",
    "                     [1, -1, -1],\n",
    "                     [1, 1, -1],\n",
    "                     [-1, 1, -1],\n",
    "                     [-1, -1, 1],\n",
    "                     [1, -1, 1],\n",
    "                     [1, 1, 1],\n",
    "                     [-1, 1, 1]])\n",
    "\n",
    "# Define the vertex combinations to create each face of the cube\n",
    "faces = [[vertices[j] for j in [0, 1, 2, 3]],\n",
    "         [vertices[j] for j in [4, 5, 6, 7]], \n",
    "         [vertices[j] for j in [0, 3, 7, 4]], \n",
    "         [vertices[j] for j in [1, 2, 6, 5]], \n",
    "         [vertices[j] for j in [0, 1, 5, 4]],\n",
    "         [vertices[j] for j in [2, 3, 7, 6]]]\n",
    "\n",
    "# Create a 3D Poly3DCollection object\n",
    "cube = Poly3DCollection(faces, facecolors='cyan', linewidths=1, edgecolors='r', alpha=.25)\n",
    "\n",
    "# Add the cube to the axes\n",
    "ax.add_collection3d(cube)\n",
    "\n",
    "# Set axes limits to display the cube\n",
    "ax.set_xlim([-2, 2])\n",
    "ax.set_ylim([-2, 2])\n",
    "ax.set_zlim([-2, 2])\n",
    "\n",
    "# Update function for the animation\n",
    "def update(num):\n",
    "    ax.view_init(30, 30 + num)\n",
    "\n",
    "# Animate the cube\n",
    "ani = FuncAnimation(fig, update, frames=range(0, 360, 1), blit=False)\n",
    "\n",
    "# Display the animation\n",
    "HTML(ani.to_jshtml())"
   ]
  }
 ],
 "metadata": {
  "kernelspec": {
   "display_name": "sportsenv",
   "language": "python",
   "name": "python3"
  },
  "language_info": {
   "codemirror_mode": {
    "name": "ipython",
    "version": 3
   },
   "file_extension": ".py",
   "mimetype": "text/x-python",
   "name": "python",
   "nbconvert_exporter": "python",
   "pygments_lexer": "ipython3",
   "version": "3.10.0"
  },
  "orig_nbformat": 4
 },
 "nbformat": 4,
 "nbformat_minor": 2
}
