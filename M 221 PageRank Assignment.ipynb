{
 "cells": [
  {
   "cell_type": "markdown",
   "id": "1e04a327",
   "metadata": {},
   "source": [
    "# M 221 PageRank Assignment"
   ]
  },
  {
   "cell_type": "code",
   "execution_count": 1,
   "id": "5e7da2c5",
   "metadata": {},
   "outputs": [],
   "source": [
    "import numpy as np\n",
    "import pandas as pd"
   ]
  },
  {
   "cell_type": "markdown",
   "id": "4c909e63",
   "metadata": {},
   "source": [
    "## Example"
   ]
  },
  {
   "cell_type": "markdown",
   "id": "fec48283",
   "metadata": {},
   "source": [
    "First, I'll run through the first example from class. To generate the graphics in this document, I use a package called 'networkx'. It should come along in your Anaconda install. I highlight that you do not need to use this package in this assignment!\n",
    "\n",
    "You wont have to use it at all, it's just a nice tool for visualization. If you rerun cells, the visualizations might change a bit, but I promise they will all be representing the same graph!"
   ]
  },
  {
   "cell_type": "code",
   "execution_count": 2,
   "id": "3b4ce952",
   "metadata": {
    "scrolled": true
   },
   "outputs": [
    {
     "data": {
      "image/png": "[encoded data removed]",
      "text/plain": [
       "<Figure size 640x480 with 1 Axes>"
      ]
     },
     "metadata": {},
     "output_type": "display_data"
    }
   ],
   "source": [
    "# In this cell I define the graph, it gets drawn in the output:\n",
    "import networkx as nx\n",
    "\n",
    "# first define the directed graph: nodes are pages, and (directed) edges indicate links\n",
    "\n",
    "G = nx.DiGraph()\n",
    "G.add_nodes_from(['A','B','C','D'])\n",
    "G.add_edges_from([('A','B'),('A','C'),('A','D'),('B','A'),('B','D'),('C','D'),('D','B'),('D','C')])\n",
    "\n",
    "# now draw the graph. Re-running this cell will move things around!\n",
    "nx.draw_networkx(G, arrows=True, with_labels=True)"
   ]
  },
  {
   "cell_type": "markdown",
   "id": "6787d28b",
   "metadata": {},
   "source": [
    "Here, double-sided arrows indicate a link from one node to the other, and vice-versa. \n",
    "\n",
    "For instance, page A is linked to page B and page B is linked to page A.\n",
    "\n",
    "Below, I define the matrix $L$ as discussed in class. For example, the first column denotes the probability of moving from page A to pages A,B,C,D, in that order."
   ]
  },
  {
   "cell_type": "code",
   "execution_count": 3,
   "id": "eddb9ee2",
   "metadata": {
    "scrolled": false
   },
   "outputs": [
    {
     "data": {
      "text/plain": [
       "array([[0.        , 0.5       , 0.        , 0.        ],\n",
       "       [0.33333333, 0.        , 0.        , 0.5       ],\n",
       "       [0.33333333, 0.        , 0.        , 0.5       ],\n",
       "       [0.33333333, 0.5       , 1.        , 0.        ]])"
      ]
     },
     "execution_count": 3,
     "metadata": {},
     "output_type": "execute_result"
    }
   ],
   "source": [
    "L = np.array([[0,1/2,0,0],\n",
    "             [1/3,0,0,1/2],\n",
    "             [1/3,0,0,1/2],\n",
    "             [1/3,1/2,1,0]])\n",
    "\n",
    "L"
   ]
  },
  {
   "cell_type": "code",
   "execution_count": 4,
   "id": "e690b34a",
   "metadata": {},
   "outputs": [
    {
     "data": {
      "text/plain": [
       "array([1., 1., 1., 1.])"
      ]
     },
     "execution_count": 4,
     "metadata": {},
     "output_type": "execute_result"
    }
   ],
   "source": [
    "# this just checks to make sure all the column-sums are equal to 1, as we desire:\n",
    "np.sum(L,axis=0)"
   ]
  },
  {
   "cell_type": "markdown",
   "id": "b1132eed",
   "metadata": {},
   "source": [
    "We now define the vector $r_0$: this encodes the scenario in which we have an equal probability of starting at any page in the network:"
   ]
  },
  {
   "cell_type": "code",
   "execution_count": 5,
   "id": "0204eebd",
   "metadata": {},
   "outputs": [
    {
     "data": {
      "text/plain": [
       "array([0.25, 0.25, 0.25, 0.25])"
      ]
     },
     "execution_count": 5,
     "metadata": {},
     "output_type": "execute_result"
    }
   ],
   "source": [
    "r_0 = np.array([1/4,1/4,1/4,1/4])\n",
    "\n",
    "r_0"
   ]
  },
  {
   "cell_type": "markdown",
   "id": "5b3ba569",
   "metadata": {},
   "source": [
    "*Note: usually, we want $r_0$ to be a column vector. NumPy will let us work with a row vector here, but it's important to keep in mind! It knows that when we ask it to find $Lr_0$, we are thinking of $r_0$ as a column vector. This ties back to our motif of the difference between column and row vectors being sometimes kinda iffy*"
   ]
  },
  {
   "cell_type": "markdown",
   "id": "28b5f3e7",
   "metadata": {},
   "source": [
    "Now, we'll use the *Power Method* to find the eigenvector of $L$ corresponding to eigenvalue $1$: we do so by repeatedly multiplying $r_0$ by $L$.\n",
    "\n",
    "In class, we defined $r_{i+1} = Lr_i$. The syntax we are using below is slightly different, and I want to highlight it: we're going to repeatedly run the same block of code. Each time we do so, we will store $r_{i+1}$ in the place we stored $r_i$. If you would prefer, you may instead rename a new variable each time. This is just easier for copying and pasting, and is just a small syntax trick. Ask me about it if you have any questions!"
   ]
  },
  {
   "cell_type": "code",
   "execution_count": 6,
   "id": "c6fc37b8",
   "metadata": {},
   "outputs": [
    {
     "data": {
      "text/plain": [
       "array([0.125     , 0.20833333, 0.20833333, 0.45833333])"
      ]
     },
     "execution_count": 6,
     "metadata": {},
     "output_type": "execute_result"
    }
   ],
   "source": [
    "# first get r_1\n",
    "\n",
    "r = L.dot(r_0)\n",
    "\n",
    "#display r_1\n",
    "r"
   ]
  },
  {
   "cell_type": "markdown",
   "id": "ee867057",
   "metadata": {},
   "source": [
    "Okay, after one iteration of the power method, we see that the rank of page A has dropped, and the rank of page D has gone up by a lot! Let's iterate a few more times: notice that here is where I reuse a chunk of code:"
   ]
  },
  {
   "cell_type": "code",
   "execution_count": 7,
   "id": "9d647c3e",
   "metadata": {},
   "outputs": [
    {
     "data": {
      "text/plain": [
       "array([0.10416667, 0.27083333, 0.27083333, 0.35416667])"
      ]
     },
     "execution_count": 7,
     "metadata": {},
     "output_type": "execute_result"
    }
   ],
   "source": [
    "# find new vector r_{i+1} from r_i\n",
    "r = L.dot(r)\n",
    "\n",
    "# display new vector\n",
    "r"
   ]
  },
  {
   "cell_type": "code",
   "execution_count": 8,
   "id": "0c22663f",
   "metadata": {},
   "outputs": [
    {
     "data": {
      "text/plain": [
       "array([0.13541667, 0.21180556, 0.21180556, 0.44097222])"
      ]
     },
     "execution_count": 8,
     "metadata": {},
     "output_type": "execute_result"
    }
   ],
   "source": [
    "# find new vector r_{i+1} from r_i\n",
    "r = L.dot(r)\n",
    "\n",
    "# display new vector\n",
    "r"
   ]
  },
  {
   "cell_type": "code",
   "execution_count": 9,
   "id": "b0d356e6",
   "metadata": {},
   "outputs": [
    {
     "data": {
      "text/plain": [
       "array([0.10590278, 0.265625  , 0.265625  , 0.36284722])"
      ]
     },
     "execution_count": 9,
     "metadata": {},
     "output_type": "execute_result"
    }
   ],
   "source": [
    "# find new vector r_{i+1} from r_i\n",
    "r = L.dot(r)\n",
    "\n",
    "# display new vector\n",
    "r"
   ]
  },
  {
   "cell_type": "code",
   "execution_count": 10,
   "id": "bb5e074e",
   "metadata": {},
   "outputs": [
    {
     "data": {
      "text/plain": [
       "array([0.1328125 , 0.21672454, 0.21672454, 0.43373843])"
      ]
     },
     "execution_count": 10,
     "metadata": {},
     "output_type": "execute_result"
    }
   ],
   "source": [
    "# find new vector r_{i+1} from r_i\n",
    "r = L.dot(r)\n",
    "\n",
    "# display new vector\n",
    "r"
   ]
  },
  {
   "cell_type": "markdown",
   "id": "77801a72",
   "metadata": {},
   "source": [
    "Okay, let's see what we think is happening here: each component of this vector is bouncing back and forth around a value. It is converging to that value, but it may take a while to do so. To save a bit of space in the notebook, I'm going to run a cell below that contains a *for loop*: this is just something that lets us repeat a task many times. Here, we just multiply $r$ by $L$ $100$ more times:"
   ]
  },
  {
   "cell_type": "code",
   "execution_count": 11,
   "id": "3656f3ef",
   "metadata": {},
   "outputs": [
    {
     "data": {
      "text/plain": [
       "array([0.12000085, 0.23999846, 0.23999846, 0.40000223])"
      ]
     },
     "execution_count": 11,
     "metadata": {},
     "output_type": "execute_result"
    }
   ],
   "source": [
    "# multiply r by L, one hundred times\n",
    "\n",
    "for i in range(100):\n",
    "    r = L.dot(r)\n",
    "    \n",
    "# now display r:\n",
    "r"
   ]
  },
  {
   "cell_type": "markdown",
   "id": "e486e03d",
   "metadata": {},
   "source": [
    "Okay, now we're real close to the vector we discussed in class, which was\n",
    "\n",
    "$$\n",
    "r_\\infty = \\begin{bmatrix}0.12\\\\0.24\\\\0.24\\\\0.40  \\end{bmatrix}.\n",
    "$$\n",
    "\n",
    "The more times you iterate, the closer you should get to this. For our purposes, I'd say we're close enough  :)\n",
    "\n",
    "We can check that this is correct by checking to see if $r_\\infty=Lr_\\infty$"
   ]
  },
  {
   "cell_type": "code",
   "execution_count": 7,
   "id": "59f7536d",
   "metadata": {},
   "outputs": [
    {
     "data": {
      "text/plain": [
       "array([0.12, 0.24, 0.24, 0.4 ])"
      ]
     },
     "execution_count": 7,
     "metadata": {},
     "output_type": "execute_result"
    }
   ],
   "source": [
    "r_inf = np.array([0.12,0.24,0.24,0.40])\n",
    "r_inf"
   ]
  },
  {
   "cell_type": "code",
   "execution_count": 13,
   "id": "bf911b6d",
   "metadata": {},
   "outputs": [
    {
     "data": {
      "text/plain": [
       "array([0.12, 0.24, 0.24, 0.4 ])"
      ]
     },
     "execution_count": 13,
     "metadata": {},
     "output_type": "execute_result"
    }
   ],
   "source": [
    "L.dot(r_inf)"
   ]
  },
  {
   "cell_type": "markdown",
   "id": "34689256",
   "metadata": {},
   "source": [
    "Hey, would ya look at that! We've done it! Go us.\n",
    "****\n",
    "\n",
    "## Exercise\n",
    "\n",
    "Below, use the power method to find $r_\\infty$ for the provided graph, using the *damping coefficient* of $0.85$:\n",
    "\n",
    "That is, find $r_\\infty$ that is a solution to\n",
    "$$\n",
    "r_\\infty = 0.85Lr_\\infty+0.15r_0\n",
    "$$\n",
    "\n",
    "Where $r_0$ is your starting vector."
   ]
  },
  {
   "cell_type": "code",
   "execution_count": 8,
   "id": "c4aab689",
   "metadata": {},
   "outputs": [
    {
     "data": {
      "image/png": "[encoded data removed]",
      "text/plain": [
       "<Figure size 640x480 with 1 Axes>"
      ]
     },
     "metadata": {},
     "output_type": "display_data"
    }
   ],
   "source": [
    "# first we define our graph\n",
    "G = nx.DiGraph()\n",
    "\n",
    "G.add_nodes_from(['A','B','C','D','E','F','G','H','I','J'])\n",
    "\n",
    "G.add_edges_from([('A','B'),('A','E'),('A','F')])\n",
    "G.add_edges_from([('B','A'),('B','E')])\n",
    "G.add_edges_from([('C','A'),('C','B'),('C','D')])\n",
    "G.add_edges_from([('D','A'),('D','C'),('D','E')])\n",
    "G.add_edges_from([('E','A'),('E','B')])\n",
    "G.add_edges_from([('F','A')])\n",
    "G.add_edges_from([('G','F')])\n",
    "G.add_edges_from([('H','F')])\n",
    "G.add_edges_from([('I','F')])\n",
    "G.add_edges_from([('J','F')])\n",
    "\n",
    "nx.draw_networkx(G, arrows=True, with_labels=True)"
   ]
  },
  {
   "cell_type": "code",
   "execution_count": 9,
   "id": "10a0cf03",
   "metadata": {},
   "outputs": [
    {
     "data": {
      "text/plain": [
       "array([1., 1., 1., 1., 1., 1., 1., 1., 1., 1.])"
      ]
     },
     "execution_count": 9,
     "metadata": {},
     "output_type": "execute_result"
    }
   ],
   "source": [
    "# Create L to hold probabilities of going from one page to another (columns sum to 1, had to transpose since I typed it out row by row)\n",
    "L = np.array([[0, 1/3, 0, 0, 1/3, 1/3, 0, 0, 0, 0], # A\n",
    "             [1/2, 0, 0, 0, 1/2, 0, 0, 0, 0, 0], # B\n",
    "             [1/3, 1/3, 0, 1/3, 0, 0, 0, 0, 0, 0], # C\n",
    "             [1/3, 0, 1/3, 0, 1/3, 0, 0, 0, 0, 0], # D\n",
    "             [1/2, 1/2, 0, 0, 0, 0, 0, 0, 0, 0], # E\n",
    "             [1, 0, 0, 0, 0, 0, 0, 0, 0, 0], # F\n",
    "             [0, 0, 0, 0, 0, 1, 0, 0, 0, 0], # G\n",
    "             [0, 0, 0, 0, 0, 1, 0, 0, 0, 0], # H\n",
    "             [0, 0, 0, 0, 0, 1, 0, 0, 0, 0], # I\n",
    "             [0, 0, 0, 0, 0, 1, 0, 0, 0, 0]]) # J\n",
    "L = L.T\n",
    "np.sum(L,axis=0)"
   ]
  },
  {
   "cell_type": "code",
   "execution_count": 10,
   "id": "620526a5",
   "metadata": {},
   "outputs": [],
   "source": [
    "# Create r_0\n",
    "r_0 = np.array([1/10, 1/10, 1/10, 1/10, 1/10, 1/10, 1/10, 1/10, 1/10, 1/10])"
   ]
  },
  {
   "cell_type": "code",
   "execution_count": 11,
   "id": "93903151",
   "metadata": {},
   "outputs": [
    {
     "data": {
      "text/html": [
       "<div>\n",
       "<style scoped>\n",
       "    .dataframe tbody tr th:only-of-type {\n",
       "        vertical-align: middle;\n",
       "    }\n",
       "\n",
       "    .dataframe tbody tr th {\n",
       "        vertical-align: top;\n",
       "    }\n",
       "\n",
       "    .dataframe thead th {\n",
       "        text-align: right;\n",
       "    }\n",
       "</style>\n",
       "<table border=\"1\" class=\"dataframe\">\n",
       "  <thead>\n",
       "    <tr style=\"text-align: right;\">\n",
       "      <th></th>\n",
       "      <th>r</th>\n",
       "    </tr>\n",
       "  </thead>\n",
       "  <tbody>\n",
       "    <tr>\n",
       "      <th>A</th>\n",
       "      <td>0.334681</td>\n",
       "    </tr>\n",
       "    <tr>\n",
       "      <th>B</th>\n",
       "      <td>0.201316</td>\n",
       "    </tr>\n",
       "    <tr>\n",
       "      <th>C</th>\n",
       "      <td>0.020930</td>\n",
       "    </tr>\n",
       "    <tr>\n",
       "      <th>D</th>\n",
       "      <td>0.020930</td>\n",
       "    </tr>\n",
       "    <tr>\n",
       "      <th>E</th>\n",
       "      <td>0.201316</td>\n",
       "    </tr>\n",
       "    <tr>\n",
       "      <th>F</th>\n",
       "      <td>0.160826</td>\n",
       "    </tr>\n",
       "    <tr>\n",
       "      <th>G</th>\n",
       "      <td>0.015000</td>\n",
       "    </tr>\n",
       "    <tr>\n",
       "      <th>H</th>\n",
       "      <td>0.015000</td>\n",
       "    </tr>\n",
       "    <tr>\n",
       "      <th>I</th>\n",
       "      <td>0.015000</td>\n",
       "    </tr>\n",
       "    <tr>\n",
       "      <th>J</th>\n",
       "      <td>0.015000</td>\n",
       "    </tr>\n",
       "  </tbody>\n",
       "</table>\n",
       "</div>"
      ],
      "text/plain": [
       "          r\n",
       "A  0.334681\n",
       "B  0.201316\n",
       "C  0.020930\n",
       "D  0.020930\n",
       "E  0.201316\n",
       "F  0.160826\n",
       "G  0.015000\n",
       "H  0.015000\n",
       "I  0.015000\n",
       "J  0.015000"
      ]
     },
     "execution_count": 11,
     "metadata": {},
     "output_type": "execute_result"
    }
   ],
   "source": [
    "# We can now use the power method to find the steady state vector (using the damping factor of 0.85)\n",
    "r = r_0\n",
    "for i in range(1000):\n",
    "    r = 0.85*L.dot(r) + 0.15*r_0\n",
    "\n",
    "# Display r\n",
    "pd.DataFrame(r, index=['A','B','C','D','E','F','G','H','I','J'], columns=['r'])"
   ]
  },
  {
   "cell_type": "code",
   "execution_count": 13,
   "id": "e0caf118",
   "metadata": {},
   "outputs": [
    {
     "data": {
      "text/plain": [
       "1.0000000000000002"
      ]
     },
     "execution_count": 13,
     "metadata": {},
     "output_type": "execute_result"
    }
   ],
   "source": [
    "sum(r)"
   ]
  },
  {
   "cell_type": "code",
   "execution_count": 16,
   "id": "ece41a00",
   "metadata": {},
   "outputs": [
    {
     "data": {
      "image/png": "[encoded data removed]",
      "text/plain": [
       "<Figure size 640x480 with 1 Axes>"
      ]
     },
     "metadata": {},
     "output_type": "display_data"
    }
   ],
   "source": [
    "# Show graph with node sizes proportional to r\n",
    "nx.draw_networkx(G, arrows=True, with_labels=True, node_size=10000*r)"
   ]
  }
 ],
 "metadata": {
  "kernelspec": {
   "display_name": "Python 3 (ipykernel)",
   "language": "python",
   "name": "python3"
  },
  "language_info": {
   "codemirror_mode": {
    "name": "ipython",
    "version": 3
   },
   "file_extension": ".py",
   "mimetype": "text/x-python",
   "name": "python",
   "nbconvert_exporter": "python",
   "pygments_lexer": "ipython3",
   "version": "3.10.13"
  }
 },
 "nbformat": 4,
 "nbformat_minor": 5
}
