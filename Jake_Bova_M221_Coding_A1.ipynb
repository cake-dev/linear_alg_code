{
 "cells": [
  {
   "cell_type": "markdown",
   "metadata": {},
   "source": [
    "# Solving Linear Systems with LU Factorization (Decomposition)"
   ]
  },
  {
   "cell_type": "markdown",
   "metadata": {},
   "source": [
    "## My Favorite Equation"
   ]
  },
  {
   "cell_type": "markdown",
   "metadata": {},
   "source": [
    "### **My Affection for $E=mc^2$**\n",
    "\n",
    "In the symphony of mathematical expressions that underpin our universe, there’s one equation, so succinct yet profound, that resonates deeply with my intellectual and existential curiosities: Albert Einstein’s iconic $E=mc^2$. This equation, deceptively simple, conceals within its characters a revelation of cosmic proportions, connecting the intangible and ethereal concept of energy with the concrete and tangible realm of mass. A love letter written in the language of the cosmos, revealing that energy and mass are not just correlated, but are indeed, different manifestations of a single, unified existence.\n",
    "\n",
    "At the core of $E=mc^2$ lies the equivalence of mass and energy. Each particle of mass in our universe is a condensed packet of energy; each vibration of energy has an associated mass. It underscores a fundamental truth - that matter and energy are interchangeable. This equation tells us that the mass of a body is a measure of its energy content. In those instances when mass vanishes, as in the nuclear reactions within the sun, energy is released into the cosmos, lighting up the stars and barraging space with heat and light.\n",
    "\n",
    "#### **Existential Reflections**\n",
    "\n",
    "Beyond its scientific implications, $E=mc^2$ invites a deeper, philosophical introspection. If mass and energy are two sides of the same coin, then our very existence, the stars above us, the earth below, are all different expressions of energy. We are not just beings of matter but entities of energy, woven into the cosmic tapestry of the universe.\n",
    "\n",
    "#### **Conclusion**\n",
    "\n",
    "In the beauty of $E=mc^2$, I find an echo of the ancient quest to understand our place in the universe. Every atom, every star, every galaxy, and indeed, every soul (whatever you deem it to be) is part of this intricate dance of energy and mass. To adore this equation is to embrace a universe where science and philosophy, matter and energy, existence and essence, are interwoven, illuminating the depths of a cosmos where we are not just observers but intrinsic participants. In $E=mc^2$, I see not just an equation, but a cosmic narrative of existence, revealing that we are stardust and energy, matter and light - a testament to a universe where everything is interconnected in the dance of existence.\n",
    "\n",
    "Note: This is a modified version of an essay/article I wrote for a class previosuly."
   ]
  },
  {
   "cell_type": "markdown",
   "metadata": {},
   "source": [
    "## Solving Ax=b with LU Factorization"
   ]
  },
  {
   "cell_type": "code",
   "execution_count": 39,
   "metadata": {},
   "outputs": [],
   "source": [
    "import numpy as np\n",
    "from scipy.linalg import lu"
   ]
  },
  {
   "cell_type": "markdown",
   "metadata": {},
   "source": [
    "We define the matrix A to be at least 5x5 and invertible."
   ]
  },
  {
   "cell_type": "code",
   "execution_count": 40,
   "metadata": {},
   "outputs": [
    {
     "data": {
      "text/plain": [
       "True"
      ]
     },
     "execution_count": 40,
     "metadata": {},
     "output_type": "execute_result"
    }
   ],
   "source": [
    "# Next, define matrix A as a NumPy array. A should be square and invertible. A should not be the\n",
    "# identity matrix. A should have at least five rows.\n",
    "A = np.array([[1, 2, 3, 0, 1],\n",
    "              [4, -2, 0, 1, 2],\n",
    "              [1, 1, 2, 1, 0],\n",
    "              [0, 3, 1, 2, 2],\n",
    "              [2, 1, 3, 1, 1]])\n",
    "np.linalg.det(A) != 0 # returns true if A is invertible"
   ]
  },
  {
   "cell_type": "markdown",
   "metadata": {},
   "source": [
    "Now we define a vector b to be a vector of length #rows(A)"
   ]
  },
  {
   "cell_type": "code",
   "execution_count": 41,
   "metadata": {},
   "outputs": [],
   "source": [
    "b = np.array([14, 15, 9, 21, 17]) # define vector b"
   ]
  },
  {
   "cell_type": "markdown",
   "metadata": {},
   "source": [
    "We now define matrices P, L, U s.t. A = PLU is the LU factorization (with row swaps) of As"
   ]
  },
  {
   "cell_type": "code",
   "execution_count": 42,
   "metadata": {},
   "outputs": [],
   "source": [
    "P, L, U = lu(A) # LU decomposition of A"
   ]
  },
  {
   "cell_type": "markdown",
   "metadata": {},
   "source": [
    "We can now use the matrcies P, L, and U to solve the system Ax=b for x (I will be redifining those matrices in a concise function)"
   ]
  },
  {
   "cell_type": "markdown",
   "metadata": {},
   "source": [
    "First we solve Lc = Pb for c\n",
    "\n",
    "Then we solve Ux = c for x"
   ]
  },
  {
   "cell_type": "code",
   "execution_count": 43,
   "metadata": {},
   "outputs": [],
   "source": [
    "# the full lu solve method in a function (if P is I, then solve Lc=b first, else Lc=P^-1b)\n",
    "def lu_solve(A, b):\n",
    "    P, L, U = lu(A)\n",
    "    c = np.linalg.solve(L, np.linalg.inv(P).dot(b))\n",
    "    x = np.linalg.solve(U, c)\n",
    "    return x"
   ]
  },
  {
   "cell_type": "code",
   "execution_count": 44,
   "metadata": {},
   "outputs": [
    {
     "data": {
      "text/plain": [
       "array([1., 1., 2., 3., 5.])"
      ]
     },
     "execution_count": 44,
     "metadata": {},
     "output_type": "execute_result"
    }
   ],
   "source": [
    "lu_solve(A, b) # returns the solution to Ax=b"
   ]
  },
  {
   "cell_type": "markdown",
   "metadata": {},
   "source": [
    "Notice how the solution x contains the first 5 values of the Fibonacci sequence.  Very cool!"
   ]
  }
 ],
 "metadata": {
  "kernelspec": {
   "display_name": "mathenv",
   "language": "python",
   "name": "python3"
  },
  "language_info": {
   "codemirror_mode": {
    "name": "ipython",
    "version": 3
   },
   "file_extension": ".py",
   "mimetype": "text/x-python",
   "name": "python",
   "nbconvert_exporter": "python",
   "pygments_lexer": "ipython3",
   "version": "3.10.0"
  },
  "orig_nbformat": 4
 },
 "nbformat": 4,
 "nbformat_minor": 2
}
